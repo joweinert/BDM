{
 "cells": [
  {
   "cell_type": "code",
   "execution_count": 6,
   "id": "769cfc42",
   "metadata": {},
   "outputs": [
    {
     "name": "stdout",
     "output_type": "stream",
     "text": [
      "['eodhd_financial_news', 'finnhub_financial_report', 'imf_indicators', 'ops_db_kyc_metadata', 'ops_db_user_profiles', 'ops_db_user_transactions']\n",
      "                   ts                       date  \\\n",
      "0 2023-03-10 14:38:55  2023-03-10T14:38:55+00:00   \n",
      "1 2023-03-10 18:27:47  2023-03-10T18:27:47+00:00   \n",
      "2 2023-03-10 17:27:00  2023-03-10T17:27:00+00:00   \n",
      "3 2023-03-10 21:51:09  2023-03-10T21:51:09+00:00   \n",
      "4 2023-03-10 18:45:39  2023-03-10T18:45:39+00:00   \n",
      "5 2023-03-10 22:05:01  2023-03-10T22:05:01+00:00   \n",
      "6 2023-03-10 17:01:00  2023-03-10T17:01:00+00:00   \n",
      "7 2023-03-10 23:50:00  2023-03-10T23:50:00+00:00   \n",
      "8 2023-03-10 19:45:00  2023-03-10T19:45:00+00:00   \n",
      "9 2023-03-10 18:20:39  2023-03-10T18:20:39+00:00   \n",
      "\n",
      "                                               title  \\\n",
      "0  Apple Gets Its Mojo Back After a Shaky Start t...   \n",
      "1  Apple Faces Scant Shareholder Dissent at Annua...   \n",
      "2  Apple shareholders reject proposals from conse...   \n",
      "3   These 3 Tech Companies Generate Substantial Cash   \n",
      "4  UPDATE 2-Apple shareholders reject proposals f...   \n",
      "5  Shareholders Side With Apple on Contentious Vo...   \n",
      "6  Apple Stock Is Slowly Racking Up Sell Ratings....   \n",
      "7                                     Weekly Roundup   \n",
      "8  Apple downgraded to sell by LightShed amid iPh...   \n",
      "9  Wall Street Firm Turns Bearish On Apple Stock;...   \n",
      "\n",
      "                                                link  \\\n",
      "0  https://finance.yahoo.com/news/apple-gets-mojo...   \n",
      "1  https://finance.yahoo.com/news/apple-investors...   \n",
      "2  https://finance.yahoo.com/news/apple-sharehold...   \n",
      "3  https://finance.yahoo.com/news/3-tech-companie...   \n",
      "4  https://finance.yahoo.com/news/2-apple-shareho...   \n",
      "5  https://finance.yahoo.com/m/1d9a22c4-c204-315a...   \n",
      "6  https://finance.yahoo.com/m/79140842-52bc-33c6...   \n",
      "7  https://finance.yahoo.com/m/d63210ba-77d7-376f...   \n",
      "8  https://finance.yahoo.com/m/07789537-4cfe-3150...   \n",
      "9  https://finance.yahoo.com/m/67d0fec6-e35b-3866...   \n",
      "\n",
      "                                             content  sent_neg  sent_neu  \\\n",
      "0  (Bloomberg) -- After a shaky start to the year...     0.047     0.842   \n",
      "1  (Bloomberg) -- Apple Inc. investors reelected ...     0.059     0.863   \n",
      "2  March 10 (Reuters) - Apple Inc shareholders on...     0.079     0.812   \n",
      "3  Let’s face it - searching for stocks can be di...     0.028     0.764   \n",
      "4  (Adds details about shareholder proposals and ...     0.061     0.870   \n",
      "5  Apple's annual shareholders' meeting was held ...     0.087     0.714   \n",
      "6  Wall Street analysts have been debating whethe...     0.160     0.840   \n",
      "7  After a week that included jobs data, Fed chat...     0.170     0.830   \n",
      "8  Analysts cited increased risk to iPhone sales ...     0.219     0.685   \n",
      "9  A Wall Street firm turned bearish on Apple sto...     0.000     0.885   \n",
      "\n",
      "   sent_pos  sent_polarity                                            symbols  \\\n",
      "0     0.111          0.996    [AAPL.MX, AAPL.US, AAPL34.SA, APC.F, APC.XETRA]   \n",
      "1     0.078          0.957    [AAPL.MX, AAPL.US, AAPL34.SA, APC.F, APC.XETRA]   \n",
      "2     0.110          0.527    [AAPL.MX, AAPL.US, AAPL34.SA, APC.F, APC.XETRA]   \n",
      "3     0.208          0.999  [AAPL.MX, AAPL.US, AAPL34.SA, ABEA.F, ABEA.XET...   \n",
      "4     0.069          0.176    [AAPL.MX, AAPL.US, AAPL34.SA, APC.F, APC.XETRA]   \n",
      "5     0.199          0.557    [AAPL.MX, AAPL.US, AAPL34.SA, APC.F, APC.XETRA]   \n",
      "6     0.000         -0.422    [AAPL.MX, AAPL.US, AAPL34.SA, APC.F, APC.XETRA]   \n",
      "7     0.000         -0.599  [A58.F, AAPL.MX, AAPL.US, AAPL34.SA, ABEA.F, A...   \n",
      "8     0.096         -0.402  [AAPL.MX, AAPL.US, AAPL34.SA, APC.F, APC.XETRA...   \n",
      "9     0.115          0.296    [AAPL.MX, AAPL.US, AAPL34.SA, APC.F, APC.XETRA]   \n",
      "\n",
      "                                                tags  \n",
      "0  [ALPHABET INC, AMAZON.COM INC, APPLE, APPLE MU...  \n",
      "1  [APPLE INC, BLOOMBERG, SHAREHOLDER PROPOSALS, ...  \n",
      "2       [APPLE INC, SHAREHOLDER PROPOSALS, TIM COOK]  \n",
      "3  [APPLE, FREE CASH FLOW, GOOGL, IMAGE SOURCE, Z...  \n",
      "4  [APPLE INC, CONSERVATIVE GROUP, NATIONAL CENTE...  \n",
      "5  [APPLE, ERIC WOODRING, MORGAN STANLEY, SHAREHO...  \n",
      "6  [APPLE, QUARTERLY REVENUE, REVENUE DECLINE, WA...  \n",
      "7  [AMERICAN WATER, BIDEN INFRASTRUCTURE LAW, CON...  \n",
      "8                                    [APPLE, IPHONE]  \n",
      "9  [APPLE, JOE GALONE, REVENUE GROWTH, WALTER PIE...  \n"
     ]
    }
   ],
   "source": [
    "import bdm_duck as bd\n",
    "\n",
    "print(bd.list_tables())\n",
    "news = bd.table(\"eodhd_financial_news\").df()\n",
    "print(news)"
   ]
  }
 ],
 "metadata": {
  "kernelspec": {
   "display_name": "venv",
   "language": "python",
   "name": "python3"
  },
  "language_info": {
   "codemirror_mode": {
    "name": "ipython",
    "version": 3
   },
   "file_extension": ".py",
   "mimetype": "text/x-python",
   "name": "python",
   "nbconvert_exporter": "python",
   "pygments_lexer": "ipython3",
   "version": "3.13.4"
  }
 },
 "nbformat": 4,
 "nbformat_minor": 5
}
