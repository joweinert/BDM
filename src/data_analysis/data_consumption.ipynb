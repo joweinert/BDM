{
 "cells": [
  {
   "cell_type": "code",
   "execution_count": 42,
   "id": "49779dbd",
   "metadata": {},
   "outputs": [],
   "source": [
    "# Basic libraries\n",
    "import pandas as pd\n",
    "import numpy as np\n",
    "import matplotlib.pyplot as plt\n",
    "import seaborn as sns\n",
    "import logging\n",
    "import bdm_duck as bd\n",
    "\n",
    "# For NLP\n",
    "import nltk\n",
    "from nltk.sentiment import SentimentIntensityAnalyzer\n",
    "from sklearn.feature_extraction.text import CountVectorizer\n",
    "\n",
    "# For ML & clustering\n",
    "from sklearn.naive_bayes import GaussianNB\n",
    "from sklearn.model_selection import train_test_split\n",
    "from sklearn.metrics import classification_report, accuracy_score, confusion_matrix\n",
    "from sklearn.preprocessing import LabelEncoder, StandardScaler\n",
    "from sklearn.decomposition import PCA\n",
    "from sklearn.cluster import KMeans\n",
    "\n",
    "logging.basicConfig(level=logging.INFO, format='%(message)s')"
   ]
  },
  {
   "cell_type": "code",
   "execution_count": 19,
   "id": "769cfc42",
   "metadata": {},
   "outputs": [
    {
     "name": "stdout",
     "output_type": "stream",
     "text": [
      "Available tables in the exploitation zone:\n",
      "['eodhd_financial_news', 'finnhub_financial_report', 'imf_indicators', 'ops_db_kyc_metadata', 'ops_db_user_profiles', 'ops_db_user_transactions']\n"
     ]
    }
   ],
   "source": [
    "# Print of all available tables in the exploitation zone\n",
    "print(\"Available tables in the exploitation zone:\")\n",
    "print(bd.list_tables())"
   ]
  },
  {
   "cell_type": "markdown",
   "id": "f6080b12",
   "metadata": {},
   "source": [
    "# Consumption Task 1: News Sentiment and Headline Topics"
   ]
  },
  {
   "cell_type": "code",
   "execution_count": 20,
   "id": "ef9529b4",
   "metadata": {},
   "outputs": [
    {
     "name": "stderr",
     "output_type": "stream",
     "text": [
      "Loaded 10 news articles.\n"
     ]
    },
    {
     "name": "stdout",
     "output_type": "stream",
     "text": [
      "                   ts                       date  \\\n",
      "0 2023-03-10 14:38:55  2023-03-10T14:38:55+00:00   \n",
      "1 2023-03-10 18:27:47  2023-03-10T18:27:47+00:00   \n",
      "2 2023-03-10 17:27:00  2023-03-10T17:27:00+00:00   \n",
      "3 2023-03-10 21:51:09  2023-03-10T21:51:09+00:00   \n",
      "4 2023-03-10 18:45:39  2023-03-10T18:45:39+00:00   \n",
      "5 2023-03-10 22:05:01  2023-03-10T22:05:01+00:00   \n",
      "6 2023-03-10 17:01:00  2023-03-10T17:01:00+00:00   \n",
      "7 2023-03-10 23:50:00  2023-03-10T23:50:00+00:00   \n",
      "8 2023-03-10 19:45:00  2023-03-10T19:45:00+00:00   \n",
      "9 2023-03-10 18:20:39  2023-03-10T18:20:39+00:00   \n",
      "\n",
      "                                               title  \\\n",
      "0  Apple Gets Its Mojo Back After a Shaky Start t...   \n",
      "1  Apple Faces Scant Shareholder Dissent at Annua...   \n",
      "2  Apple shareholders reject proposals from conse...   \n",
      "3   These 3 Tech Companies Generate Substantial Cash   \n",
      "4  UPDATE 2-Apple shareholders reject proposals f...   \n",
      "5  Shareholders Side With Apple on Contentious Vo...   \n",
      "6  Apple Stock Is Slowly Racking Up Sell Ratings....   \n",
      "7                                     Weekly Roundup   \n",
      "8  Apple downgraded to sell by LightShed amid iPh...   \n",
      "9  Wall Street Firm Turns Bearish On Apple Stock;...   \n",
      "\n",
      "                                                link  \\\n",
      "0  https://finance.yahoo.com/news/apple-gets-mojo...   \n",
      "1  https://finance.yahoo.com/news/apple-investors...   \n",
      "2  https://finance.yahoo.com/news/apple-sharehold...   \n",
      "3  https://finance.yahoo.com/news/3-tech-companie...   \n",
      "4  https://finance.yahoo.com/news/2-apple-shareho...   \n",
      "5  https://finance.yahoo.com/m/1d9a22c4-c204-315a...   \n",
      "6  https://finance.yahoo.com/m/79140842-52bc-33c6...   \n",
      "7  https://finance.yahoo.com/m/d63210ba-77d7-376f...   \n",
      "8  https://finance.yahoo.com/m/07789537-4cfe-3150...   \n",
      "9  https://finance.yahoo.com/m/67d0fec6-e35b-3866...   \n",
      "\n",
      "                                             content  sent_neg  sent_neu  \\\n",
      "0  (Bloomberg) -- After a shaky start to the year...     0.047     0.842   \n",
      "1  (Bloomberg) -- Apple Inc. investors reelected ...     0.059     0.863   \n",
      "2  March 10 (Reuters) - Apple Inc shareholders on...     0.079     0.812   \n",
      "3  Let’s face it - searching for stocks can be di...     0.028     0.764   \n",
      "4  (Adds details about shareholder proposals and ...     0.061     0.870   \n",
      "5  Apple's annual shareholders' meeting was held ...     0.087     0.714   \n",
      "6  Wall Street analysts have been debating whethe...     0.160     0.840   \n",
      "7  After a week that included jobs data, Fed chat...     0.170     0.830   \n",
      "8  Analysts cited increased risk to iPhone sales ...     0.219     0.685   \n",
      "9  A Wall Street firm turned bearish on Apple sto...     0.000     0.885   \n",
      "\n",
      "   sent_pos  sent_polarity                                            symbols  \\\n",
      "0     0.111          0.996    [AAPL.MX, AAPL.US, AAPL34.SA, APC.F, APC.XETRA]   \n",
      "1     0.078          0.957    [AAPL.MX, AAPL.US, AAPL34.SA, APC.F, APC.XETRA]   \n",
      "2     0.110          0.527    [AAPL.MX, AAPL.US, AAPL34.SA, APC.F, APC.XETRA]   \n",
      "3     0.208          0.999  [AAPL.MX, AAPL.US, AAPL34.SA, ABEA.F, ABEA.XET...   \n",
      "4     0.069          0.176    [AAPL.MX, AAPL.US, AAPL34.SA, APC.F, APC.XETRA]   \n",
      "5     0.199          0.557    [AAPL.MX, AAPL.US, AAPL34.SA, APC.F, APC.XETRA]   \n",
      "6     0.000         -0.422    [AAPL.MX, AAPL.US, AAPL34.SA, APC.F, APC.XETRA]   \n",
      "7     0.000         -0.599  [A58.F, AAPL.MX, AAPL.US, AAPL34.SA, ABEA.F, A...   \n",
      "8     0.096         -0.402  [AAPL.MX, AAPL.US, AAPL34.SA, APC.F, APC.XETRA...   \n",
      "9     0.115          0.296    [AAPL.MX, AAPL.US, AAPL34.SA, APC.F, APC.XETRA]   \n",
      "\n",
      "                                                tags  \n",
      "0  [ALPHABET INC, AMAZON.COM INC, APPLE, APPLE MU...  \n",
      "1  [APPLE INC, BLOOMBERG, SHAREHOLDER PROPOSALS, ...  \n",
      "2       [APPLE INC, SHAREHOLDER PROPOSALS, TIM COOK]  \n",
      "3  [APPLE, FREE CASH FLOW, GOOGL, IMAGE SOURCE, Z...  \n",
      "4  [APPLE INC, CONSERVATIVE GROUP, NATIONAL CENTE...  \n",
      "5  [APPLE, ERIC WOODRING, MORGAN STANLEY, SHAREHO...  \n",
      "6  [APPLE, QUARTERLY REVENUE, REVENUE DECLINE, WA...  \n",
      "7  [AMERICAN WATER, BIDEN INFRASTRUCTURE LAW, CON...  \n",
      "8                                    [APPLE, IPHONE]  \n",
      "9  [APPLE, JOE GALONE, REVENUE GROWTH, WALTER PIE...  \n"
     ]
    }
   ],
   "source": [
    "news = bd.table(\"eodhd_financial_news\").df()\n",
    "logging.info(f\"Loaded {len(news)} news articles.\")\n",
    "print(news)"
   ]
  },
  {
   "cell_type": "code",
   "execution_count": 21,
   "id": "d22751db",
   "metadata": {},
   "outputs": [],
   "source": [
    "# Clean and extract top 2 keywords using CountVectorizer\n",
    "vectorizer = CountVectorizer(stop_words='english', max_features=2)\n",
    "news['topic_words'] = news['title'].apply(lambda x: vectorizer.fit([x]).get_feature_names_out())\n"
   ]
  },
  {
   "cell_type": "code",
   "execution_count": 22,
   "id": "70a03c16",
   "metadata": {},
   "outputs": [
    {
     "name": "stderr",
     "output_type": "stream",
     "text": [
      "[nltk_data] Downloading package vader_lexicon to\n",
      "[nltk_data]     C:\\Users\\ivanm\\AppData\\Roaming\\nltk_data...\n"
     ]
    },
    {
     "data": {
      "text/html": [
       "<div>\n",
       "<style scoped>\n",
       "    .dataframe tbody tr th:only-of-type {\n",
       "        vertical-align: middle;\n",
       "    }\n",
       "\n",
       "    .dataframe tbody tr th {\n",
       "        vertical-align: top;\n",
       "    }\n",
       "\n",
       "    .dataframe thead th {\n",
       "        text-align: right;\n",
       "    }\n",
       "</style>\n",
       "<table border=\"1\" class=\"dataframe\">\n",
       "  <thead>\n",
       "    <tr style=\"text-align: right;\">\n",
       "      <th></th>\n",
       "      <th>title</th>\n",
       "      <th>topic_words</th>\n",
       "      <th>sentiment</th>\n",
       "    </tr>\n",
       "  </thead>\n",
       "  <tbody>\n",
       "    <tr>\n",
       "      <th>0</th>\n",
       "      <td>Apple Gets Its Mojo Back After a Shaky Start t...</td>\n",
       "      <td>[2023, apple]</td>\n",
       "      <td>negative</td>\n",
       "    </tr>\n",
       "    <tr>\n",
       "      <th>1</th>\n",
       "      <td>Apple Faces Scant Shareholder Dissent at Annua...</td>\n",
       "      <td>[annual, shareholder]</td>\n",
       "      <td>neutral</td>\n",
       "    </tr>\n",
       "    <tr>\n",
       "      <th>2</th>\n",
       "      <td>Apple shareholders reject proposals from conse...</td>\n",
       "      <td>[apple, conservative]</td>\n",
       "      <td>negative</td>\n",
       "    </tr>\n",
       "    <tr>\n",
       "      <th>3</th>\n",
       "      <td>These 3 Tech Companies Generate Substantial Cash</td>\n",
       "      <td>[cash, companies]</td>\n",
       "      <td>positive</td>\n",
       "    </tr>\n",
       "    <tr>\n",
       "      <th>4</th>\n",
       "      <td>UPDATE 2-Apple shareholders reject proposals f...</td>\n",
       "      <td>[apple, conservative]</td>\n",
       "      <td>negative</td>\n",
       "    </tr>\n",
       "    <tr>\n",
       "      <th>5</th>\n",
       "      <td>Shareholders Side With Apple on Contentious Vo...</td>\n",
       "      <td>[230, analyst]</td>\n",
       "      <td>neutral</td>\n",
       "    </tr>\n",
       "    <tr>\n",
       "      <th>6</th>\n",
       "      <td>Apple Stock Is Slowly Racking Up Sell Ratings....</td>\n",
       "      <td>[ailing, analysts]</td>\n",
       "      <td>neutral</td>\n",
       "    </tr>\n",
       "    <tr>\n",
       "      <th>7</th>\n",
       "      <td>Weekly Roundup</td>\n",
       "      <td>[roundup, weekly]</td>\n",
       "      <td>neutral</td>\n",
       "    </tr>\n",
       "    <tr>\n",
       "      <th>8</th>\n",
       "      <td>Apple downgraded to sell by LightShed amid iPh...</td>\n",
       "      <td>[amid, apple]</td>\n",
       "      <td>neutral</td>\n",
       "    </tr>\n",
       "    <tr>\n",
       "      <th>9</th>\n",
       "      <td>Wall Street Firm Turns Bearish On Apple Stock;...</td>\n",
       "      <td>[apple, bearish]</td>\n",
       "      <td>neutral</td>\n",
       "    </tr>\n",
       "  </tbody>\n",
       "</table>\n",
       "</div>"
      ],
      "text/plain": [
       "                                               title            topic_words  \\\n",
       "0  Apple Gets Its Mojo Back After a Shaky Start t...          [2023, apple]   \n",
       "1  Apple Faces Scant Shareholder Dissent at Annua...  [annual, shareholder]   \n",
       "2  Apple shareholders reject proposals from conse...  [apple, conservative]   \n",
       "3   These 3 Tech Companies Generate Substantial Cash      [cash, companies]   \n",
       "4  UPDATE 2-Apple shareholders reject proposals f...  [apple, conservative]   \n",
       "5  Shareholders Side With Apple on Contentious Vo...         [230, analyst]   \n",
       "6  Apple Stock Is Slowly Racking Up Sell Ratings....     [ailing, analysts]   \n",
       "7                                     Weekly Roundup      [roundup, weekly]   \n",
       "8  Apple downgraded to sell by LightShed amid iPh...          [amid, apple]   \n",
       "9  Wall Street Firm Turns Bearish On Apple Stock;...       [apple, bearish]   \n",
       "\n",
       "  sentiment  \n",
       "0  negative  \n",
       "1   neutral  \n",
       "2  negative  \n",
       "3  positive  \n",
       "4  negative  \n",
       "5   neutral  \n",
       "6   neutral  \n",
       "7   neutral  \n",
       "8   neutral  \n",
       "9   neutral  "
      ]
     },
     "execution_count": 22,
     "metadata": {},
     "output_type": "execute_result"
    }
   ],
   "source": [
    "nltk.download('vader_lexicon')\n",
    "sia = SentimentIntensityAnalyzer()\n",
    "\n",
    "def get_sentiment(text):\n",
    "    score = sia.polarity_scores(text)['compound']\n",
    "    if score > 0.2:\n",
    "        return 'positive'\n",
    "    elif score < -0.2:\n",
    "        return 'negative'\n",
    "    else:\n",
    "        return 'neutral'\n",
    "\n",
    "news['sentiment'] = news['title'].apply(get_sentiment)\n",
    "news[['title', 'topic_words', 'sentiment']].head(10)\n"
   ]
  },
  {
   "cell_type": "markdown",
   "id": "e988cdb0",
   "metadata": {},
   "source": [
    "# Consumption Task 2: Financial Reports Time Series (GOOGL, MSFT, AAPL)\n",
    "In this case, contemplating \"Total assets\" for each company."
   ]
  },
  {
   "cell_type": "code",
   "execution_count": 23,
   "id": "fc7578d4",
   "metadata": {},
   "outputs": [
    {
     "name": "stderr",
     "output_type": "stream",
     "text": [
      "Loaded 411 financial report entries.\n"
     ]
    },
    {
     "name": "stdout",
     "output_type": "stream",
     "text": [
      "    symbol  year  quarter statement  \\\n",
      "0    GOOGL  2025        1        bs   \n",
      "1     MSFT  2025        3        cf   \n",
      "2     MSFT  2025        2        cf   \n",
      "3     AAPL  2025        2        bs   \n",
      "4     AAPL  2025        1        bs   \n",
      "..     ...   ...      ...       ...   \n",
      "406   MSFT  2025        2        bs   \n",
      "407   MSFT  2025        3        bs   \n",
      "408   AAPL  2025        1        bs   \n",
      "409   AAPL  2025        2        bs   \n",
      "410  GOOGL  2025        1        bs   \n",
      "\n",
      "                                               concept  \\\n",
      "0    us-gaap_CommonStocksIncludingAdditionalPaidInC...   \n",
      "1    us-gaap_EffectOfExchangeRateOnCashCashEquivale...   \n",
      "2    us-gaap_EffectOfExchangeRateOnCashCashEquivale...   \n",
      "3    us-gaap_CommonStocksIncludingAdditionalPaidInC...   \n",
      "4    us-gaap_CommonStocksIncludingAdditionalPaidInC...   \n",
      "..                                                 ...   \n",
      "406                                   us-gaap_Goodwill   \n",
      "407                                   us-gaap_Goodwill   \n",
      "408                                     us-gaap_Assets   \n",
      "409                                     us-gaap_Assets   \n",
      "410                                   us-gaap_Goodwill   \n",
      "\n",
      "                                                 label   unit         value  \n",
      "0    Class A, Class B, and Class C stock and additi...    usd  8.672500e+10  \n",
      "1    Effect of Exchange Rate on Cash, Cash Equivale...  u_usd -1.200000e+08  \n",
      "2    Effect of Exchange Rate on Cash, Cash Equivale...  u_usd -1.720000e+08  \n",
      "3    Common stock and additional paid-in capital, $...    usd  8.871100e+10  \n",
      "4    Common stock and additional paid-in capital, $...    usd  8.476800e+10  \n",
      "..                                                 ...    ...           ...  \n",
      "406                                           Goodwill  u_usd  1.191910e+11  \n",
      "407                                           Goodwill  u_usd  1.193290e+11  \n",
      "408                                       Total assets    usd  3.440850e+11  \n",
      "409                                       Total assets    usd  3.312330e+11  \n",
      "410                                           Goodwill    usd  3.217300e+10  \n",
      "\n",
      "[411 rows x 8 columns]\n"
     ]
    }
   ],
   "source": [
    "report = bd.table(\"finnhub_financial_report\").df()\n",
    "logging.info(f\"Loaded {len(report)} financial report entries.\")\n",
    "print(report)"
   ]
  },
  {
   "cell_type": "code",
   "execution_count": 26,
   "id": "2bfb80d2",
   "metadata": {},
   "outputs": [
    {
     "data": {
      "image/png": "[encoded data removed]",
      "text/plain": [
       "<Figure size 1000x600 with 1 Axes>"
      ]
     },
     "metadata": {},
     "output_type": "display_data"
    }
   ],
   "source": [
    "concept_filter = 'Total assets'\n",
    "tickers = ['AAPL', 'MSFT', 'GOOGL']\n",
    "\n",
    "df_assets = report[\n",
    "    (report['label'].str.lower() == concept_filter.lower()) &\n",
    "    (report['symbol'].isin(tickers)) &\n",
    "    (report['statement'] == 'bs')\n",
    "].copy()\n",
    "\n",
    "# Convert year & quarter to datetime\n",
    "df_assets['date'] = df_assets['year'].astype(str) + 'Q' + df_assets['quarter'].astype(str)\n",
    "df_assets['date'] = pd.PeriodIndex(df_assets['date'], freq='Q').to_timestamp()\n",
    "\n",
    "# Plotting\n",
    "plt.figure(figsize=(10, 6))\n",
    "for ticker in tickers:\n",
    "    data = df_assets[df_assets['symbol'] == ticker].sort_values('date')\n",
    "    plt.plot(data['date'], data['value'], label=ticker)\n",
    "\n",
    "plt.title(\"Total Assets Over Time\")\n",
    "plt.xlabel(\"Date\")\n",
    "plt.ylabel(\"Value (USD)\")\n",
    "plt.legend()\n",
    "plt.grid(True)\n",
    "plt.tight_layout()\n",
    "plt.show()\n"
   ]
  },
  {
   "cell_type": "markdown",
   "metadata": {},
   "source": [
    "# Consumption Task 3: IMF Indicators Visualization"
   ]
  },
  {
   "cell_type": "code",
   "execution_count": 28,
   "id": "a2fa1376",
   "metadata": {},
   "outputs": [
    {
     "name": "stderr",
     "output_type": "stream",
     "text": [
      "Loaded 1020 IMF indicator entries.\n"
     ]
    },
    {
     "name": "stdout",
     "output_type": "stream",
     "text": [
      "      year      indicator    value\n",
      "0     2002  USA_NGDP_RPCH    1.700\n",
      "1     2019  USA_NGDP_RPCH    2.600\n",
      "2     2014  USA_NGDP_RPCH    2.500\n",
      "3     2009  USA_NGDP_RPCH   -2.600\n",
      "4     2015  USA_NGDP_RPCH    2.900\n",
      "...    ...            ...      ...\n",
      "1015  1985         ESP_LP   38.792\n",
      "1016  2024         USA_LP  340.102\n",
      "1017  2008         ESP_LP   46.239\n",
      "1018  1983         ESP_LP   38.502\n",
      "1019  1990         ESP_LP   39.224\n",
      "\n",
      "[1020 rows x 3 columns]\n"
     ]
    }
   ],
   "source": [
    "indicators = bd.table(\"imf_indicators\").df()\n",
    "logging.info(f\"Loaded {len(indicators)} IMF indicator entries.\")\n",
    "print(indicators)"
   ]
  },
  {
   "cell_type": "code",
   "execution_count": null,
   "id": "101eeb12",
   "metadata": {},
   "outputs": [
    {
     "data": {
      "image/png": "[encoded data removed]",
      "text/plain": [
       "<Figure size 1200x600 with 1 Axes>"
      ]
     },
     "metadata": {},
     "output_type": "display_data"
    }
   ],
   "source": [
    "# Filter to past 25 years\n",
    "latest_year = indicators['year'].max()\n",
    "indicators_filtered = indicators[indicators['year'] >= latest_year - 25]\n",
    "\n",
    "chosen_indicators = ['USA_NGDP_RPCH', 'USA_LP', 'ESP_LP']\n",
    "plt.figure(figsize=(12, 6))\n",
    "\n",
    "for indicator in chosen_indicators:\n",
    "    subset = indicators_filtered[indicators_filtered['indicator'] == indicator]\n",
    "    plt.plot(subset['year'], subset['value'], label=indicator)\n",
    "\n",
    "plt.title(\"Selected IMF Indicators Over Last 25 Years\")\n",
    "plt.xlabel(\"Year\")\n",
    "plt.ylabel(\"Value\")\n",
    "plt.legend()\n",
    "plt.grid(True)\n",
    "plt.show()"
   ]
  },
  {
   "cell_type": "code",
   "execution_count": null,
   "id": "b69c9e69",
   "metadata": {},
   "outputs": [
    {
     "name": "stdout",
     "output_type": "stream",
     "text": [
      "                              request_id  user_id  \\\n",
      "0   378e489c-dd76-4d6e-9c06-5d362916453c  AC00088   \n",
      "1   cd80ae15-4a89-4f6f-93eb-687876482e63  AC00416   \n",
      "2   91e4f611-82c7-4095-96b4-512556f2302e  AC00438   \n",
      "3   53c4e3c3-366f-42c9-8adf-c3af39d72043  AC00024   \n",
      "4   c67f0f25-de5c-487d-8148-6f0154cb26ee  AC00281   \n",
      "..                                   ...      ...   \n",
      "93  b71296fe-3164-42da-a966-b593be564dd4  AC00068   \n",
      "94  82140e38-6ae1-46f5-a4cf-66e07c591552  AC00166   \n",
      "95  9a1bef41-1a9a-4b64-b921-944f0381c040  AC00315   \n",
      "96  d4438b22-adf2-4a44-a7ee-9d59c12d8e52  AC00367   \n",
      "97  edb2b41d-b507-47d5-a970-0a56f32addb7  AC00345   \n",
      "\n",
      "                                          doc_s3_path  \\\n",
      "0   s3a://unstructureddata/images/doc_378e489c-dd7...   \n",
      "1   s3a://unstructureddata/images/doc_cd80ae15-4a8...   \n",
      "2   s3a://unstructureddata/images/doc_91e4f611-82c...   \n",
      "3   s3a://unstructureddata/images/doc_53c4e3c3-366...   \n",
      "4   s3a://unstructureddata/images/doc_c67f0f25-de5...   \n",
      "..                                                ...   \n",
      "93  s3a://unstructureddata/images/doc_b71296fe-316...   \n",
      "94  s3a://unstructureddata/images/doc_82140e38-6ae...   \n",
      "95  s3a://unstructureddata/images/doc_9a1bef41-1a9...   \n",
      "96  s3a://unstructureddata/images/doc_d4438b22-adf...   \n",
      "97  s3a://unstructureddata/images/doc_edb2b41d-b50...   \n",
      "\n",
      "                                         face_s3_path  \\\n",
      "0   s3a://unstructureddata/images/face_378e489c-dd...   \n",
      "1   s3a://unstructureddata/images/face_cd80ae15-4a...   \n",
      "2   s3a://unstructureddata/images/face_91e4f611-82...   \n",
      "3   s3a://unstructureddata/images/face_53c4e3c3-36...   \n",
      "4   s3a://unstructureddata/images/face_c67f0f25-de...   \n",
      "..                                                ...   \n",
      "93  s3a://unstructureddata/images/face_b71296fe-31...   \n",
      "94  s3a://unstructureddata/images/face_82140e38-6a...   \n",
      "95  s3a://unstructureddata/images/face_9a1bef41-1a...   \n",
      "96  s3a://unstructureddata/images/face_d4438b22-ad...   \n",
      "97  s3a://unstructureddata/images/face_edb2b41d-b5...   \n",
      "\n",
      "                  upload_time   status  \n",
      "0  2025-06-07 15:33:57.032278  pending  \n",
      "1  2025-06-07 14:13:43.850906  pending  \n",
      "2  2025-06-07 13:24:46.433868  pending  \n",
      "3  2025-06-07 14:23:24.319642  pending  \n",
      "4  2025-06-07 14:17:39.005064  pending  \n",
      "..                        ...      ...  \n",
      "93 2025-06-07 14:09:48.360115  pending  \n",
      "94 2025-06-07 15:29:08.058449  pending  \n",
      "95 2025-06-07 15:04:08.998845  pending  \n",
      "96 2025-06-07 14:12:03.539766  pending  \n",
      "97 2025-06-07 14:20:55.111532  pending  \n",
      "\n",
      "[98 rows x 6 columns]\n"
     ]
    }
   ],
   "source": [
    "# NOT PART OF ANY CONSUPTION TASK, JUST SHOWING HOW TO ACCESS A TABLE\n",
    "ops_metadata = bd.table(\"ops_db_kyc_metadata\").df()\n",
    "print(ops_metadata)"
   ]
  },
  {
   "cell_type": "markdown",
   "id": "f96aedc7",
   "metadata": {},
   "source": [
    "# Consumption Task 4: Machine Learning Classification on Transactions"
   ]
  },
  {
   "cell_type": "code",
   "execution_count": 33,
   "id": "bdbc2ab3",
   "metadata": {},
   "outputs": [
    {
     "name": "stderr",
     "output_type": "stream",
     "text": [
      "Loaded 249 transactions.\n"
     ]
    },
    {
     "name": "stdout",
     "output_type": "stream",
     "text": [
      "                           transaction_id  user_id           timestamp  \\\n",
      "0    10b118ce-bff6-45a5-b7a6-38bb14e10124  AC00407 2023-12-29 16:38:21   \n",
      "1    1f965572-5fce-4bff-b32f-bfe1e73e2fad  AC00190 2023-07-13 17:50:13   \n",
      "2    28d44b01-013d-4dae-a076-538d1c6ac76e  AC00383 2023-11-15 18:56:02   \n",
      "3    5a0c968e-b041-432d-a4c8-906af757a401  AC00479 2023-01-30 18:50:00   \n",
      "4    5bec4d59-5c58-49d6-95e8-3a61b911966e  AC00026 2023-01-09 16:54:30   \n",
      "..                                    ...      ...                 ...   \n",
      "244  e637ba3f-856b-43d7-8a6f-4ac0ae3e7279  AC00134 2023-08-25 16:45:20   \n",
      "245  86630999-b5fc-4905-bbcd-d1326398e52b  AC00115 2023-01-23 18:35:43   \n",
      "246  cbd95003-2407-4850-a31c-53920c8cab28  AC00274 2023-11-08 17:24:54   \n",
      "247  3212eaa9-1aee-4e70-8709-01c78206c7f2  AC00174 2023-08-11 17:57:52   \n",
      "248  bd53fabf-c436-4eca-8cf0-4113f976da06  AC00032 2023-01-26 16:17:52   \n",
      "\n",
      "       type  amount currency    description     location device_id  \\\n",
      "0     Debit  186.69      GBP  M015 - Branch     New York   D000546   \n",
      "1     Debit  332.59      USD  M060 - Online  San Antonio   D000163   \n",
      "2     Debit  141.80      USD     M088 - ATM      Chicago   D000046   \n",
      "3     Debit   22.26      GBP  M057 - Branch  San Antonio   D000028   \n",
      "4    Credit  329.69      JPY  M088 - Online  San Antonio   D000278   \n",
      "..      ...     ...      ...            ...          ...       ...   \n",
      "244   Debit   49.59      JPY  M089 - Branch       Boston   D000679   \n",
      "245  Credit   85.01      GBP     M014 - ATM     Portland   D000185   \n",
      "246   Debit   17.42      JPY     M006 - ATM       Dallas   D000516   \n",
      "247  Credit  353.59      USD  M046 - Branch     New York   D000311   \n",
      "248   Debit  239.85      EUR     M047 - ATM       Tucson   D000001   \n",
      "\n",
      "          ip_address  account_balance previous_transaction  \\\n",
      "0    162.151.179.167          8602.22  2024-11-04 08:08:12   \n",
      "1      166.41.54.117          1457.07  2024-11-04 08:09:05   \n",
      "2      184.4.253.143          1697.67  2024-11-04 08:08:34   \n",
      "3       211.45.75.44          5583.88  2024-11-04 08:08:53   \n",
      "4      146.69.70.214          1671.66  2024-11-04 08:09:49   \n",
      "..               ...              ...                  ...   \n",
      "244      18.92.67.57          6037.03  2024-11-04 08:09:56   \n",
      "245   218.54.207.160          1299.40  2024-11-04 08:08:58   \n",
      "246  218.238.171.184          6851.31  2024-11-04 08:12:14   \n",
      "247   198.24.183.157          1822.34  2024-11-04 08:10:53   \n",
      "248    121.67.144.20          1477.63  2024-11-04 08:07:51   \n",
      "\n",
      "     transaction_duration  login_attempts  \n",
      "0                      54               1  \n",
      "1                     143               1  \n",
      "2                     116               1  \n",
      "3                      56               1  \n",
      "4                      66               1  \n",
      "..                    ...             ...  \n",
      "244                   147               1  \n",
      "245                   157               1  \n",
      "246                   150               1  \n",
      "247                   109               5  \n",
      "248                    50               1  \n",
      "\n",
      "[249 rows x 14 columns]\n"
     ]
    }
   ],
   "source": [
    "ops_transactions = bd.table(\"ops_db_user_transactions\").df()\n",
    "logging.info(f\"Loaded {len(ops_transactions)} transactions.\")\n",
    "print(ops_transactions)"
   ]
  },
  {
   "cell_type": "code",
   "execution_count": 43,
   "id": "836841ab",
   "metadata": {},
   "outputs": [
    {
     "name": "stdout",
     "output_type": "stream",
     "text": [
      "Preparing transaction classification dataset...\n",
      "Data split: 199 training samples, 50 test samples.\n",
      "Model trained.\n",
      "Classification Report:\n",
      "\n",
      "              precision    recall  f1-score   support\n",
      "\n",
      "      Credit       0.00      0.00      0.00         6\n",
      "       Debit       0.88      1.00      0.94        44\n",
      "\n",
      "    accuracy                           0.88        50\n",
      "   macro avg       0.44      0.50      0.47        50\n",
      "weighted avg       0.77      0.88      0.82        50\n",
      "\n"
     ]
    },
    {
     "name": "stderr",
     "output_type": "stream",
     "text": [
      "c:\\Users\\ivanm\\OneDrive\\Documentos\\GitHub\\BDM\\.venv\\Lib\\site-packages\\sklearn\\metrics\\_classification.py:1706: UndefinedMetricWarning: Precision is ill-defined and being set to 0.0 in labels with no predicted samples. Use `zero_division` parameter to control this behavior.\n",
      "  _warn_prf(average, modifier, f\"{metric.capitalize()} is\", result.shape[0])\n",
      "c:\\Users\\ivanm\\OneDrive\\Documentos\\GitHub\\BDM\\.venv\\Lib\\site-packages\\sklearn\\metrics\\_classification.py:1706: UndefinedMetricWarning: Precision is ill-defined and being set to 0.0 in labels with no predicted samples. Use `zero_division` parameter to control this behavior.\n",
      "  _warn_prf(average, modifier, f\"{metric.capitalize()} is\", result.shape[0])\n",
      "c:\\Users\\ivanm\\OneDrive\\Documentos\\GitHub\\BDM\\.venv\\Lib\\site-packages\\sklearn\\metrics\\_classification.py:1706: UndefinedMetricWarning: Precision is ill-defined and being set to 0.0 in labels with no predicted samples. Use `zero_division` parameter to control this behavior.\n",
      "  _warn_prf(average, modifier, f\"{metric.capitalize()} is\", result.shape[0])\n"
     ]
    },
    {
     "data": {
      "image/png": "[encoded data removed]",
      "text/plain": [
       "<Figure size 600x400 with 2 Axes>"
      ]
     },
     "metadata": {},
     "output_type": "display_data"
    }
   ],
   "source": [
    "print(\"Preparing transaction classification dataset...\")\n",
    "\n",
    "# Select relevant columns\n",
    "features = ['amount', 'account_balance', 'transaction_duration', 'login_attempts']\n",
    "target = 'type'\n",
    "\n",
    "df_txn = ops_transactions.dropna(subset=features + [target]).copy()\n",
    "\n",
    "# Encode target label: Debit=0, Credit=1\n",
    "le = LabelEncoder()\n",
    "df_txn['type_encoded'] = le.fit_transform(df_txn['type'])\n",
    "\n",
    "X = df_txn[features]\n",
    "y = df_txn['type_encoded']\n",
    "\n",
    "# Split into train/test sets\n",
    "X_train, X_test, y_train, y_test = train_test_split(X, y, test_size=0.2, random_state=42)\n",
    "\n",
    "print(f\"Data split: {X_train.shape[0]} training samples, {X_test.shape[0]} test samples.\")\n",
    "\n",
    "# Train a Naive Bayes model\n",
    "model = GaussianNB()\n",
    "model.fit(X_train, y_train)\n",
    "print(\"Model trained.\")\n",
    "\n",
    "# Evaluate\n",
    "y_pred = model.predict(X_test)\n",
    "print(\"Classification Report:\\n\")\n",
    "print(classification_report(y_test, y_pred, target_names=le.classes_))\n",
    "\n",
    "# Confusion matrix\n",
    "cm = confusion_matrix(y_test, y_pred)\n",
    "plt.figure(figsize=(6, 4))\n",
    "sns.heatmap(cm, annot=True, fmt='d', xticklabels=le.classes_, yticklabels=le.classes_, cmap=\"Blues\")\n",
    "plt.title(\"Confusion Matrix: Transaction Type Prediction\")\n",
    "plt.xlabel(\"Predicted\")\n",
    "plt.ylabel(\"Actual\")\n",
    "plt.tight_layout()\n",
    "plt.show()\n"
   ]
  },
  {
   "cell_type": "markdown",
   "id": "beed2ef3",
   "metadata": {},
   "source": [
    "# Consumption Task 5: Clustering on Profiles + Transactions"
   ]
  },
  {
   "cell_type": "code",
   "execution_count": 44,
   "id": "d23fb92a",
   "metadata": {},
   "outputs": [
    {
     "name": "stderr",
     "output_type": "stream",
     "text": [
      "Loaded 283 profiles.\n"
     ]
    },
    {
     "name": "stdout",
     "output_type": "stream",
     "text": [
      "     user_id  age occupation\n",
      "0    AC00061   79    Retired\n",
      "1    AC00081   23    Student\n",
      "2    AC00145   23    Student\n",
      "3    AC00163   18    Student\n",
      "4    AC00174   36   Engineer\n",
      "..       ...  ...        ...\n",
      "278  AC00284   70     Doctor\n",
      "279  AC00161   41     Doctor\n",
      "280  AC00229   73    Retired\n",
      "281  AC00159   69    Retired\n",
      "282  AC00349   56     Doctor\n",
      "\n",
      "[283 rows x 3 columns]\n"
     ]
    }
   ],
   "source": [
    "ops_profiles = bd.table(\"ops_db_user_profiles\").df()\n",
    "logging.info(f\"Loaded {len(ops_profiles)} profiles.\")\n",
    "print(ops_profiles)"
   ]
  },
  {
   "cell_type": "code",
   "execution_count": null,
   "id": "b04a9ecd",
   "metadata": {},
   "outputs": [],
   "source": [
    "# Aggregate user-level features from transactions\n",
    "agg = ops_transactions.groupby('user_id').agg({\n",
    "    'amount': 'mean',\n",
    "    'type': lambda x: x.mode()[0]  # most frequent type\n",
    "}).reset_index().rename(columns={'amount': 'avg_amount', 'type': 'dominant_type'})\n",
    "\n",
    "# Merge with profiles\n",
    "merged = pd.merge(ops_profiles, agg, on='user_id')\n",
    "merged = merged.dropna()\n",
    "\n",
    "# Encode\n",
    "merged_encoded = pd.get_dummies(merged.drop(columns='user_id'))"
   ]
  },
  {
   "cell_type": "code",
   "execution_count": 47,
   "id": "41f8ee1c",
   "metadata": {},
   "outputs": [
    {
     "data": {
      "image/png": "[encoded data removed]",
      "text/plain": [
       "<Figure size 800x600 with 1 Axes>"
      ]
     },
     "metadata": {},
     "output_type": "display_data"
    }
   ],
   "source": [
    "scaler = StandardScaler()\n",
    "scaled = scaler.fit_transform(merged_encoded)\n",
    "\n",
    "pca = PCA(n_components=2)\n",
    "components = pca.fit_transform(scaled)\n",
    "\n",
    "kmeans = KMeans(n_clusters=3, random_state=42)\n",
    "labels = kmeans.fit_predict(components)\n",
    "\n",
    "plt.figure(figsize=(8, 6))\n",
    "sns.scatterplot(x=components[:, 0], y=components[:, 1], hue=labels, palette='Set2')\n",
    "plt.title(\"User Clustering Based on Profile + Transaction Behavior\")\n",
    "plt.xlabel(\"PCA Component 1\")\n",
    "plt.ylabel(\"PCA Component 2\")\n",
    "plt.grid(True)\n",
    "plt.show()\n"
   ]
  }
 ],
 "metadata": {
  "kernelspec": {
   "display_name": ".venv",
   "language": "python",
   "name": "python3"
  },
  "language_info": {
   "codemirror_mode": {
    "name": "ipython",
    "version": 3
   },
   "file_extension": ".py",
   "mimetype": "text/x-python",
   "name": "python",
   "nbconvert_exporter": "python",
   "pygments_lexer": "ipython3",
   "version": "3.12.6"
  }
 },
 "nbformat": 4,
 "nbformat_minor": 5
}
