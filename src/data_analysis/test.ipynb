{
 "cells": [
  {
   "cell_type": "code",
   "execution_count": 10,
   "id": "84e4952a",
   "metadata": {},
   "outputs": [
    {
     "name": "stdout",
     "output_type": "stream",
     "text": [
      "['Exploitation_Zone/exploitation.duckdb']\n"
     ]
    }
   ],
   "source": [
    "from botocore.config import Config\n",
    "import boto3\n",
    "\n",
    "# tell botocore to use v4 signing and your “spain” region\n",
    "my_config = Config(signature_version=\"s3v4\", region_name=\"spain\")\n",
    "\n",
    "s3 = boto3.client(\n",
    "    \"s3\",\n",
    "    endpoint_url=\"http://localhost:9000\",\n",
    "    aws_access_key_id=\"admin\",\n",
    "    aws_secret_access_key=\"admin123\",\n",
    "    config=my_config,\n",
    ")\n",
    "\n",
    "# list objects under your bucket/folder\n",
    "resp = s3.list_objects(Bucket=\"deltalake\", Prefix=\"Exploitation_Zone/\")\n",
    "print([o[\"Key\"] for o in resp.get(\"Contents\", [])])"
   ]
  },
  {
   "cell_type": "code",
   "execution_count": 2,
   "id": "769cfc42",
   "metadata": {},
   "outputs": [
    {
     "data": {
      "text/plain": [
       "['eodhd_financial_news',\n",
       " 'finnhub_financial_report',\n",
       " 'imf_indicators',\n",
       " 'ops_db_kyc_metadata',\n",
       " 'ops_db_pdf_metadata',\n",
       " 'ops_db_user_profiles',\n",
       " 'ops_db_user_transactions']"
      ]
     },
     "execution_count": 2,
     "metadata": {},
     "output_type": "execute_result"
    }
   ],
   "source": [
    "import bdm_duck as bd\n",
    "\n",
    "bd.list_tables()\n",
    "#rates = bd.table(\"ecb_exchange_rates\").df()\n",
    "#print(rates)"
   ]
  },
  {
   "cell_type": "code",
   "execution_count": 21,
   "id": "de46eed2",
   "metadata": {},
   "outputs": [
    {
     "name": "stdout",
     "output_type": "stream",
     "text": [
      "[('ecb_exchange_rates',), ('imf_indicators',)]\n"
     ]
    }
   ],
   "source": [
    "import duckdb\n",
    "con = duckdb.connect(\"exploitation.duckdb\", read_only=True)\n",
    "q = \"\"\"\n",
    "    SELECT table_name\n",
    "    FROM information_schema.tables\n",
    "    \"\"\"\n",
    "result = con.sql(q).fetchall()\n",
    "print(result)"
   ]
  },
  {
   "cell_type": "code",
   "execution_count": 1,
   "id": "07ff5de3",
   "metadata": {},
   "outputs": [
    {
     "data": {
      "text/plain": [
       "['ecb_exchange_rates', 'imf_indicators']"
      ]
     },
     "execution_count": 1,
     "metadata": {},
     "output_type": "execute_result"
    }
   ],
   "source": [
    "import bdm_duck as bd\n",
    "bd.list_tables()\n"
   ]
  },
  {
   "cell_type": "code",
   "execution_count": 30,
   "id": "2f74a10c",
   "metadata": {},
   "outputs": [
    {
     "ename": "ParserException",
     "evalue": "Parser Error: syntax error at or near \"FROM\"",
     "output_type": "error",
     "traceback": [
      "\u001b[31m---------------------------------------------------------------------------\u001b[39m",
      "\u001b[31mParserException\u001b[39m                           Traceback (most recent call last)",
      "\u001b[36mCell\u001b[39m\u001b[36m \u001b[39m\u001b[32mIn[30]\u001b[39m\u001b[32m, line 41\u001b[39m\n\u001b[32m     33\u001b[39m con.execute(\n\u001b[32m     34\u001b[39m \u001b[38;5;250m    \u001b[39m\u001b[33;03m\"\"\"\u001b[39;00m\n\u001b[32m     35\u001b[39m \u001b[33;03mATTACH 's3://deltalake/Exploitation_Zone/exploitation.duckdb'\u001b[39;00m\n\u001b[32m     36\u001b[39m \u001b[33;03m  AS expo_db;  -- implicitly READ_ONLY on S3\u001b[39;00m\n\u001b[32m     37\u001b[39m \u001b[33;03m\"\"\"\u001b[39;00m\n\u001b[32m     38\u001b[39m )\n\u001b[32m     40\u001b[39m \u001b[38;5;66;03m# 4) Verify it worked\u001b[39;00m\n\u001b[32m---> \u001b[39m\u001b[32m41\u001b[39m \u001b[38;5;28mprint\u001b[39m(\u001b[33m\"\u001b[39m\u001b[33mTables in expo_db:\u001b[39m\u001b[33m\"\u001b[39m, \u001b[43mcon\u001b[49m\u001b[43m.\u001b[49m\u001b[43mexecute\u001b[49m\u001b[43m(\u001b[49m\u001b[33;43m\"\u001b[39;49m\u001b[33;43mSHOW TABLES FROM expo_db\u001b[39;49m\u001b[33;43m\"\u001b[39;49m\u001b[43m)\u001b[49m.fetchall())\n",
      "\u001b[31mParserException\u001b[39m: Parser Error: syntax error at or near \"FROM\""
     ]
    }
   ],
   "source": [
    "import os\n",
    "import duckdb\n",
    "\n",
    "# 1) Connect & install/load extensions\n",
    "con = duckdb.connect()\n",
    "con.execute(\"INSTALL httpfs;\")\n",
    "con.execute(\"LOAD httpfs;\")\n",
    "con.execute(\"INSTALL aws;\")\n",
    "con.execute(\"LOAD aws;\")\n",
    "\n",
    "# 2) Create or replace an S3 secret for MinIO\n",
    "access_key = os.getenv(\"MINIO_ROOT_USER\", \"admin\")\n",
    "secret_key = os.getenv(\"MINIO_ROOT_PASSWORD\", \"admin123\")\n",
    "endpoint = os.getenv(\"MINIO_ENDPOINT\", \"localhost:9000\")\n",
    "\n",
    "con.execute(\n",
    "    f\"\"\"\n",
    "CREATE OR REPLACE SECRET minio_secret (\n",
    "  TYPE s3,\n",
    "  PROVIDER config,\n",
    "  KEY_ID    'admin',\n",
    "  SECRET    'admin123',\n",
    "  ENDPOINT  'localhost:9000',\n",
    "  REGION    'us-east-1',\n",
    "  URL_STYLE 'path',\n",
    "  USE_SSL   false,\n",
    "  SCOPE     's3://deltalake/Exploitation_Zone/'\n",
    ");\n",
    "\"\"\"\n",
    ")\n",
    "\n",
    "# 3) Attach without SECRET clause\n",
    "con.execute(\n",
    "    \"\"\"\n",
    "ATTACH 's3://deltalake/Exploitation_Zone/exploitation.duckdb'\n",
    "  AS expo_db;  -- implicitly READ_ONLY on S3\n",
    "\"\"\"\n",
    ")\n",
    "\n",
    "# 4) Verify it worked\n",
    "print(\"Tables in expo_db:\", con.execute(\"SHOW TABLES FROM expo_db\").fetchall())"
   ]
  },
  {
   "cell_type": "code",
   "execution_count": 22,
   "id": "7eb85a0a",
   "metadata": {},
   "outputs": [
    {
     "name": "stdout",
     "output_type": "stream",
     "text": [
      "HEAD succeeded – object is accessible\n"
     ]
    }
   ],
   "source": [
    "from botocore.config import Config\n",
    "import boto3\n",
    "\n",
    "# Configure boto3 for your MinIO\n",
    "cfg = Config(signature_version=\"s3v4\", region_name=\"us-east-1\")\n",
    "s3 = boto3.client(\n",
    "    \"s3\", endpoint_url=\"http://localhost:9000\", aws_access_key_id=\"admin\", aws_secret_access_key=\"admin123\", config=cfg\n",
    ")\n",
    "\n",
    "# This HEAD will fail with 403 if the bucket is private\n",
    "try:\n",
    "    s3.head_object(Bucket=\"deltalake\", Key=\"Exploitation_Zone/exploitation.duckdb\")\n",
    "    print(\"HEAD succeeded – object is accessible\")\n",
    "except Exception as e:\n",
    "    print(\"HEAD failed:\", e)"
   ]
  },
  {
   "cell_type": "code",
   "execution_count": 18,
   "id": "5164db58",
   "metadata": {},
   "outputs": [
    {
     "name": "stdout",
     "output_type": "stream",
     "text": [
      "          time currency        rate  \\\n",
      "0   2021-01-18      AUD      1.5721   \n",
      "1   2021-01-18      HRK      7.5535   \n",
      "2   2021-01-18      HUF    360.3900   \n",
      "3   2021-01-18      IDR  17053.6700   \n",
      "4   2021-01-18      ILS      3.9018   \n",
      "..         ...      ...         ...   \n",
      "635 2021-01-28      USD      1.2091   \n",
      "636 2021-01-15      USD      1.2123   \n",
      "637 2021-01-08      USD      1.2250   \n",
      "638 2021-01-05      USD      1.2271   \n",
      "639 2021-01-14      USD      1.2124   \n",
      "\n",
      "                                              filename  \n",
      "0    s3://deltalake/_staging_parquet/ecb_exchange_r...  \n",
      "1    s3://deltalake/_staging_parquet/ecb_exchange_r...  \n",
      "2    s3://deltalake/_staging_parquet/ecb_exchange_r...  \n",
      "3    s3://deltalake/_staging_parquet/ecb_exchange_r...  \n",
      "4    s3://deltalake/_staging_parquet/ecb_exchange_r...  \n",
      "..                                                 ...  \n",
      "635  s3://deltalake/_staging_parquet/ecb_exchange_r...  \n",
      "636  s3://deltalake/_staging_parquet/ecb_exchange_r...  \n",
      "637  s3://deltalake/_staging_parquet/ecb_exchange_r...  \n",
      "638  s3://deltalake/_staging_parquet/ecb_exchange_r...  \n",
      "639  s3://deltalake/_staging_parquet/ecb_exchange_r...  \n",
      "\n",
      "[640 rows x 4 columns]\n",
      "     year      indicator    value  \\\n",
      "0    1993  USA_NGDP_RPCH    2.800   \n",
      "1    1998  USA_NGDP_RPCH    4.500   \n",
      "2    1990  USA_NGDP_RPCH    1.900   \n",
      "3    2023  USA_NGDP_RPCH    2.900   \n",
      "4    1985  USA_NGDP_RPCH    4.200   \n",
      "..    ...            ...      ...   \n",
      "995  2008         USA_LP  304.718   \n",
      "996  2021         ESP_LP   47.331   \n",
      "997  1981         USA_LP  229.916   \n",
      "998  2003         USA_LP  290.733   \n",
      "999  2021         USA_LP  332.330   \n",
      "\n",
      "                                              filename  \n",
      "0    s3://deltalake/_staging_parquet/imf_indicators...  \n",
      "1    s3://deltalake/_staging_parquet/imf_indicators...  \n",
      "2    s3://deltalake/_staging_parquet/imf_indicators...  \n",
      "3    s3://deltalake/_staging_parquet/imf_indicators...  \n",
      "4    s3://deltalake/_staging_parquet/imf_indicators...  \n",
      "..                                                 ...  \n",
      "995  s3://deltalake/_staging_parquet/imf_indicators...  \n",
      "996  s3://deltalake/_staging_parquet/imf_indicators...  \n",
      "997  s3://deltalake/_staging_parquet/imf_indicators...  \n",
      "998  s3://deltalake/_staging_parquet/imf_indicators...  \n",
      "999  s3://deltalake/_staging_parquet/imf_indicators...  \n",
      "\n",
      "[1000 rows x 4 columns]\n"
     ]
    }
   ],
   "source": [
    "import os\n",
    "db_file = \"exploitation_test.duckdb\"\n",
    "if os.getenv(\"DOCKER_ENV\", \"false\") == \"true\":\n",
    "    _MINIO_ENDPOINT = \"minio:9000\"\n",
    "else:\n",
    "    _MINIO_ENDPOINT = \"localhost:9000\"\n",
    "_BUCKET = os.getenv(\"MINIO_DATA_BUCKET\", \"deltalake\")\n",
    "_USER = os.getenv(\"MINIO_ROOT_USER\", \"admin\")\n",
    "_PASS = os.getenv(\"MINIO_ROOT_PASSWORD\", \"admin123\")\n",
    "_REMOTE_DB = os.getenv(\n",
    "    \"BDM_DUCK_REMOTE\",\n",
    "    f\"s3://{_BUCKET}/Exploitation_Zone/exploitation.duckdb\",\n",
    ")\n",
    "\n",
    "_host = _MINIO_ENDPOINT\n",
    "_use_ssl = \"https\" in _MINIO_ENDPOINT.lower()\n",
    "con = duckdb.connect(db_file)\n",
    "\n",
    "bucket = \"deltalake\"\n",
    "con.sql(\"INSTALL httpfs;\")\n",
    "con.sql(\"LOAD httpfs;\")\n",
    "con.execute(\n",
    "    f\"\"\"\n",
    "        CREATE OR REPLACE SECRET minio_secret (\n",
    "          TYPE s3,\n",
    "          PROVIDER config,\n",
    "          KEY_ID    '{_USER}',\n",
    "          SECRET    '{_PASS}',\n",
    "          ENDPOINT  '{_host}',\n",
    "          REGION    'us-east-1',\n",
    "          URL_STYLE 'path',\n",
    "          USE_SSL   {'true' if _use_ssl else 'false'}\n",
    "        );\n",
    "        \"\"\"\n",
    ")\n",
    "\n",
    "for name in [\"ecb_exchange_rates\", \"imf_indicators\"]:\n",
    "    con.sql(\n",
    "        f\"\"\"\n",
    "        CREATE OR REPLACE TABLE {name} AS\n",
    "        SELECT * FROM parquet_scan(\n",
    "            's3://{bucket}/_staging_parquet/{name}/*.parquet',\n",
    "            filename=true, hive_partitioning=true\n",
    "        );\n",
    "    \"\"\"\n",
    "    )\n",
    "    result = con.sql(f\"SELECT * FROM {name}\").df()\n",
    "    print(result)\n",
    "\n",
    "con.sql(\"CHECKPOINT\")\n",
    "con.commit()\n",
    "con.close()"
   ]
  },
  {
   "cell_type": "code",
   "execution_count": 17,
   "id": "985679c5",
   "metadata": {},
   "outputs": [
    {
     "name": "stdout",
     "output_type": "stream",
     "text": [
      "     year      indicator    value  \\\n",
      "0    1993  USA_NGDP_RPCH    2.800   \n",
      "1    1998  USA_NGDP_RPCH    4.500   \n",
      "2    1990  USA_NGDP_RPCH    1.900   \n",
      "3    2023  USA_NGDP_RPCH    2.900   \n",
      "4    1985  USA_NGDP_RPCH    4.200   \n",
      "..    ...            ...      ...   \n",
      "995  2008         USA_LP  304.718   \n",
      "996  2021         ESP_LP   47.331   \n",
      "997  1981         USA_LP  229.916   \n",
      "998  2003         USA_LP  290.733   \n",
      "999  2021         USA_LP  332.330   \n",
      "\n",
      "                                              filename  \n",
      "0    s3://deltalake/_staging_parquet/imf_indicators...  \n",
      "1    s3://deltalake/_staging_parquet/imf_indicators...  \n",
      "2    s3://deltalake/_staging_parquet/imf_indicators...  \n",
      "3    s3://deltalake/_staging_parquet/imf_indicators...  \n",
      "4    s3://deltalake/_staging_parquet/imf_indicators...  \n",
      "..                                                 ...  \n",
      "995  s3://deltalake/_staging_parquet/imf_indicators...  \n",
      "996  s3://deltalake/_staging_parquet/imf_indicators...  \n",
      "997  s3://deltalake/_staging_parquet/imf_indicators...  \n",
      "998  s3://deltalake/_staging_parquet/imf_indicators...  \n",
      "999  s3://deltalake/_staging_parquet/imf_indicators...  \n",
      "\n",
      "[1000 rows x 4 columns]\n"
     ]
    }
   ],
   "source": [
    "con = duckdb.connect(db_file)\n",
    "result = con.sql(f\"SELECT * FROM {name}\").df()\n",
    "print(result)"
   ]
  }
 ],
 "metadata": {
  "kernelspec": {
   "display_name": "venv (3.12.6)",
   "language": "python",
   "name": "python3"
  },
  "language_info": {
   "codemirror_mode": {
    "name": "ipython",
    "version": 3
   },
   "file_extension": ".py",
   "mimetype": "text/x-python",
   "name": "python",
   "nbconvert_exporter": "python",
   "pygments_lexer": "ipython3",
   "version": "3.12.6"
  }
 },
 "nbformat": 4,
 "nbformat_minor": 5
}
